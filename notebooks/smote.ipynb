{
  "nbformat": 4,
  "nbformat_minor": 0,
  "metadata": {
    "colab": {
      "provenance": []
    },
    "kernelspec": {
      "name": "python3",
      "display_name": "Python 3"
    },
    "language_info": {
      "name": "python"
    }
  },
  "cells": [
    {
      "cell_type": "code",
      "execution_count": 1,
      "metadata": {
        "colab": {
          "base_uri": "https://localhost:8080/",
          "height": 1000
        },
        "id": "Pt2Oaw47Uxkx",
        "outputId": "3e9af891-be11-4e9d-a221-ee0b7248a928"
      },
      "outputs": [
        {
          "output_type": "stream",
          "name": "stdout",
          "text": [
            "   PassengerId  Survived  Pclass  \\\n",
            "0            1         0       3   \n",
            "1            2         1       1   \n",
            "2            3         1       3   \n",
            "3            4         1       1   \n",
            "4            5         0       3   \n",
            "\n",
            "                                                Name     Sex   Age  SibSp  \\\n",
            "0                            Braund, Mr. Owen Harris    male  22.0      1   \n",
            "1  Cumings, Mrs. John Bradley (Florence Briggs Th...  female  38.0      1   \n",
            "2                             Heikkinen, Miss. Laina  female  26.0      0   \n",
            "3       Futrelle, Mrs. Jacques Heath (Lily May Peel)  female  35.0      1   \n",
            "4                           Allen, Mr. William Henry    male  35.0      0   \n",
            "\n",
            "   Parch            Ticket     Fare Cabin Embarked  \n",
            "0      0         A/5 21171   7.2500   NaN        S  \n",
            "1      0          PC 17599  71.2833   C85        C  \n",
            "2      0  STON/O2. 3101282   7.9250   NaN        S  \n",
            "3      0            113803  53.1000  C123        S  \n",
            "4      0            373450   8.0500   NaN        S  \n",
            "(891, 12)\n",
            "['PassengerId' 'Survived' 'Pclass' 'Name' 'Sex' 'Age' 'SibSp' 'Parch'\n",
            " 'Ticket' 'Fare' 'Cabin' 'Embarked']\n",
            "PassengerId      int64\n",
            "Survived         int64\n",
            "Pclass           int64\n",
            "Name            object\n",
            "Sex             object\n",
            "Age            float64\n",
            "SibSp            int64\n",
            "Parch            int64\n",
            "Ticket          object\n",
            "Fare           float64\n",
            "Cabin           object\n",
            "Embarked        object\n",
            "dtype: object\n",
            "0    549\n",
            "1    342\n",
            "Name: Survived, dtype: int64\n",
            "PassengerId      0\n",
            "Survived         0\n",
            "Pclass           0\n",
            "Name             0\n",
            "Sex              0\n",
            "Age            177\n",
            "SibSp            0\n",
            "Parch            0\n",
            "Ticket           0\n",
            "Fare             0\n",
            "Cabin          687\n",
            "Embarked         2\n",
            "dtype: int64\n",
            "PassengerId      int64\n",
            "Survived         int64\n",
            "Pclass           int64\n",
            "Name            object\n",
            "Sex              int64\n",
            "Age            float64\n",
            "SibSp            int64\n",
            "Parch            int64\n",
            "Ticket          object\n",
            "Fare           float64\n",
            "Embarked         int64\n",
            "dtype: object\n",
            "0.7208121827411168\n",
            "[[80 23]\n",
            " [32 71]]\n"
          ]
        },
        {
          "output_type": "stream",
          "name": "stderr",
          "text": [
            "<ipython-input-1-217d765b65b3>:24: UserWarning: \n",
            "\n",
            "`distplot` is a deprecated function and will be removed in seaborn v0.14.0.\n",
            "\n",
            "Please adapt your code to use either `displot` (a figure-level function with\n",
            "similar flexibility) or `histplot` (an axes-level function for histograms).\n",
            "\n",
            "For a guide to updating your code to use the new functions, please see\n",
            "https://gist.github.com/mwaskom/de44147ed2974457ad6372750bbe5751\n",
            "\n",
            "  sns.distplot(train_data['Survived'], kde=False, hist=True, bins=3)\n"
          ]
        },
        {
          "output_type": "stream",
          "name": "stdout",
          "text": [
            "0.8060606060606059\n",
            "[[133  32]\n",
            " [ 32 133]]\n"
          ]
        },
        {
          "output_type": "execute_result",
          "data": {
            "text/plain": [
              "<Axes: >"
            ]
          },
          "metadata": {},
          "execution_count": 1
        },
        {
          "output_type": "display_data",
          "data": {
            "text/plain": [
              "<Figure size 640x480 with 3 Axes>"
            ],
            "image/png": "[encoded data removed]"
          },
          "metadata": {}
        }
      ],
      "source": [
        "import pandas as pd\n",
        "import imblearn as im\n",
        "import seaborn as sns\n",
        "from sklearn.model_selection import train_test_split\n",
        "from sklearn.metrics import confusion_matrix\n",
        "from sklearn.metrics import f1_score\n",
        "from sklearn.utils import resample\n",
        "from sklearn.linear_model import LogisticRegression\n",
        "from imblearn.over_sampling import SMOTENC\n",
        "from imblearn.over_sampling import ADASYN\n",
        "\n",
        "train_data = pd.read_csv('titanic_train.csv')\n",
        "print(train_data.head()) \n",
        "\n",
        "print(train_data.shape)\n",
        "\n",
        "print(train_data.columns.values)\n",
        "['PassengerId' 'Survived' 'Pclass' 'Name' 'Sex' 'Age' 'SibSp' 'Parch'\n",
        " 'Ticket' 'Fare' 'Cabin' 'Embarked']\n",
        "print(train_data.dtypes)\n",
        "\n",
        "print(train_data['Survived'].value_counts())\n",
        "\n",
        "sns.distplot(train_data['Survived'], kde=False, hist=True, bins=3)\n",
        "\n",
        "print(train_data.isnull().sum())\n",
        "\n",
        "train_data['Age'] = train_data['Age'].fillna(30)\n",
        "\n",
        "train_data = train_data.drop(columns=[\"Cabin\"])\n",
        "\n",
        "train_data[train_data.isnull().any(axis=1)]\n",
        "\n",
        "gender, gender_uniques = pd.factorize(train_data['Sex'])\n",
        "\n",
        "train_data['Sex'] = gender\n",
        "embarked, embarked_uniques = pd.factorize(train_data['Embarked'])\n",
        "train_data['Embarked'] = embarked\n",
        "train_data.shape\n",
        "\n",
        "print(train_data.dtypes)\n",
        "\n",
        "train_data = train_data[['Survived', 'PassengerId', 'Pclass', 'Sex', 'Age', 'SibSp', 'Parch', 'Fare', 'Embarked']]\n",
        "\n",
        "def prepandsplitdata(X, y):\n",
        "    X_train, X_test, y_train, y_test = train_test_split(X, y, test_size=0.30, stratify=y, random_state=42)\n",
        "    return X_train, X_test, y_train, y_test\n",
        "def trainmodel(X_train, y_train):\n",
        "    logresult = LogisticRegression(penalty='l2', \n",
        "                                   dual=False, solver='liblinear', \n",
        "                                   class_weight='balanced', random_state=1).fit(X_train, y_train)\n",
        "    return logresult\n",
        "def getmetrics(model, X_test, y_test):\n",
        "    predictions = model.predict(X_test)\n",
        "    f1score = f1_score(y_test, predictions)\n",
        "    cm = confusion_matrix(y_test, predictions)\n",
        "    return f1score, cm\n",
        "\n",
        "major_class = train_data[train_data['Survived']==0]\n",
        "minor_class = train_data[train_data['Survived']==1]\n",
        "#resample the major class to a subset equal to the number of samples in the minority class\n",
        "downsample_major = resample(major_class, replace=False, n_samples=342)\n",
        "balanced_train_data = pd.concat([downsample_major, minor_class])\n",
        "y = balanced_train_data['Survived']\n",
        "X = balanced_train_data[['PassengerId', 'Pclass', 'Sex', 'Age', 'SibSp','Parch','Fare','Embarked']]\n",
        "X_train, X_test, y_train, y_test = prepandsplitdata(X, y)\n",
        "downsample_model = trainmodel(X_train, y_train)\n",
        "downsample_f1, downsample_cm = getmetrics(downsample_model, X_test, y_test)\n",
        "print(downsample_f1)\n",
        "\n",
        "print(downsample_cm)\n",
        "\n",
        "sns.heatmap(downsample_cm, annot=True, fmt=\"d\")\n",
        "\n",
        "y = train_data['Survived']\n",
        "X = train_data[['PassengerId', 'Pclass', 'Sex', 'Age', 'SibSp','Parch','Fare','Embarked']]\n",
        "\n",
        "X_smote, y_smote = SMOTENC(categorical_features=[2,7]).fit_resample(X.values, y.values)\n",
        "X_train, X_test, y_train, y_test = prepandsplitdata(X_smote, y_smote)\n",
        "smote_model = trainmodel(X_train, y_train)\n",
        "smote_f1, smote_cm = getmetrics(smote_model, X_test, y_test)\n",
        "print(smote_f1)\n",
        "\n",
        "print(smote_cm)\n",
        "\n",
        "sns.heatmap(smote_cm, annot=True, fmt=\"d\")\n"
      ]
    }
  ]
}